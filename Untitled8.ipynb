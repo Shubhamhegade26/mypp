{
 "cells": [
  {
   "cell_type": "markdown",
   "metadata": {},
   "source": [
    "Question no. 2"
   ]
  },
  {
   "cell_type": "code",
   "execution_count": 67,
   "metadata": {},
   "outputs": [],
   "source": [
    "import sympy as sp"
   ]
  },
  {
   "cell_type": "markdown",
   "metadata": {},
   "source": [
    "We know from torsion,\n",
    "$$ \\nabla^2{{\\psi}} = -1 $$\n",
    "$$ \\psi = 0, on \\, boundary $$\n",
    "For simply connected region,\n",
    "Torsional rigidity can be written as,\n",
    "$$ GJ = 4G\\int_{A} \\psi \\, dA $$"
   ]
  },
  {
   "cell_type": "code",
   "execution_count": 3,
   "metadata": {},
   "outputs": [],
   "source": [
    "x,y = sp.symbols('x y')\n",
    "psi = sp.Function('psi')(x,y)"
   ]
  },
  {
   "cell_type": "code",
   "execution_count": 45,
   "metadata": {},
   "outputs": [],
   "source": [
    "alpha, h, G = sp.symbols('alpha h G')"
   ]
  },
  {
   "cell_type": "markdown",
   "metadata": {},
   "source": [
    "As $ \\psi $ has to be zero on the boundary, we can write $ \\psi $ as following, so that, on the boundary $ \\psi $ will be zero. $ \\alpha $ is the unknown constant we have to find."
   ]
  },
  {
   "cell_type": "code",
   "execution_count": 38,
   "metadata": {},
   "outputs": [],
   "source": [
    "psi = alpha*(x + h/3)*(y + x/sp.root(3,2) - 2*h/sp.root(27,2))*(y - x/sp.root(3,2) + 2*h/sp.root(27,2))"
   ]
  },
  {
   "cell_type": "code",
   "execution_count": 39,
   "metadata": {},
   "outputs": [],
   "source": [
    "from IPython.display import Math"
   ]
  },
  {
   "cell_type": "code",
   "execution_count": 40,
   "metadata": {},
   "outputs": [
    {
     "data": {
      "text/latex": [
       "$\\displaystyle \\psi(x,y) = \\alpha \\left(\\frac{h}{3} + x\\right) \\left(- \\frac{2 \\sqrt{3} h}{9} + \\frac{\\sqrt{3} x}{3} + y\\right) \\left(\\frac{2 \\sqrt{3} h}{9} - \\frac{\\sqrt{3} x}{3} + y\\right)$"
      ],
      "text/plain": [
       "<IPython.core.display.Math object>"
      ]
     },
     "metadata": {},
     "output_type": "display_data"
    }
   ],
   "source": [
    "display(Math(r'\\psi(x,y) = {}'.format(sp.latex(psi))))"
   ]
  },
  {
   "cell_type": "markdown",
   "metadata": {},
   "source": [
    "Substituing above $ \\psi $ expression in the equation $ \\nabla^2 \\psi = -1 $"
   ]
  },
  {
   "cell_type": "code",
   "execution_count": 41,
   "metadata": {},
   "outputs": [
    {
     "data": {
      "text/latex": [
       "$\\displaystyle \\frac{4 \\alpha h}{3}$"
      ],
      "text/plain": [
       "4*alpha*h/3"
      ]
     },
     "execution_count": 41,
     "metadata": {},
     "output_type": "execute_result"
    }
   ],
   "source": [
    "(sp.diff(psi,x,2) + sp.diff(psi,y,2)).simplify()"
   ]
  },
  {
   "cell_type": "markdown",
   "metadata": {},
   "source": [
    "$ \\frac{{4\\alpha k}}{{3}} = -1 $\n",
    "$\\\\$\n",
    "From this,\n",
    "$ \\alpha = \\frac{{-3}}{{4h}} $"
   ]
  },
  {
   "cell_type": "code",
   "execution_count": 42,
   "metadata": {},
   "outputs": [
    {
     "data": {
      "text/latex": [
       "$\\displaystyle \\psi(x,y) = - \\frac{3 \\left(\\frac{h}{3} + x\\right) \\left(- \\frac{2 \\sqrt{3} h}{9} + \\frac{\\sqrt{3} x}{3} + y\\right) \\left(\\frac{2 \\sqrt{3} h}{9} - \\frac{\\sqrt{3} x}{3} + y\\right)}{4 h}$"
      ],
      "text/plain": [
       "<IPython.core.display.Math object>"
      ]
     },
     "metadata": {},
     "output_type": "display_data"
    }
   ],
   "source": [
    "display(Math(r'\\psi(x,y) = {}'.format(sp.latex(psi.subs(alpha,-3/(4*h))))))"
   ]
  },
  {
   "cell_type": "markdown",
   "metadata": {},
   "source": [
    "Torsional rigidity for simply connecting region can be found by integrating $\\psi$ over the whole area as follows\n",
    "$ \\\\ $\n",
    "$ 4G \\int_{x=\\frac{{-h}}{{3}}}^{\\frac{{2h}}{{3}}} \\int_{y=0}^{\\frac{{-x}}{{\\sqrt{3}}} + \\frac{{2h}}{{3\\sqrt{3}}}} \\psi \\, dx \\, dy $"
   ]
  },
  {
   "cell_type": "code",
   "execution_count": 66,
   "metadata": {},
   "outputs": [
    {
     "data": {
      "text/latex": [
       "$\\displaystyle \\frac{\\sqrt{3} G h^{4}}{45}$"
      ],
      "text/plain": [
       "sqrt(3)*G*h**4/45"
      ]
     },
     "execution_count": 66,
     "metadata": {},
     "output_type": "execute_result"
    }
   ],
   "source": [
    "G*sp.integrate(sp.integrate(psi,(y,0,-x/sp.root(3,2) + 2*h/sp.root(27,2))),(x,-h/3,2*h/3)).subs(alpha,-3/(4*h))*8"
   ]
  },
  {
   "cell_type": "markdown",
   "metadata": {},
   "source": [
    "Torsion can be written as in index notation as,\n",
    "$T^n_{{i}} =  \\sigma_{{ji}} n_{{j}} $\n",
    "$ \\\\ $\n",
    "$ N = T^n.n $\n",
    "$ \\\\ $\n",
    "$ S = \\sqrt{|T^n|^2 - N^2} $"
   ]
  },
  {
   "cell_type": "code",
   "execution_count": 58,
   "metadata": {},
   "outputs": [],
   "source": [
    "sigma_zx = sp.Function('sigma_zx')(x,y)\n",
    "sigma_zy = sp.Function('sigma_zy')(x,y)\n",
    "sigma_zx = 2*G*alpha*sp.diff(psi,y)\n",
    "sigma_zy = -2*G*alpha*sp.diff(psi,x)"
   ]
  },
  {
   "cell_type": "code",
   "execution_count": 60,
   "metadata": {},
   "outputs": [
    {
     "data": {
      "text/latex": [
       "$\\displaystyle \\sigma_{zx} = 2 G \\alpha \\left(\\alpha \\left(\\frac{h}{3} + x\\right) \\left(- \\frac{2 \\sqrt{3} h}{9} + \\frac{\\sqrt{3} x}{3} + y\\right) + \\alpha \\left(\\frac{h}{3} + x\\right) \\left(\\frac{2 \\sqrt{3} h}{9} - \\frac{\\sqrt{3} x}{3} + y\\right)\\right)$"
      ],
      "text/plain": [
       "<IPython.core.display.Math object>"
      ]
     },
     "metadata": {},
     "output_type": "display_data"
    },
    {
     "data": {
      "text/latex": [
       "$\\displaystyle \\sigma_{zy} = - 2 G \\alpha \\left(- \\frac{\\sqrt{3} \\alpha \\left(\\frac{h}{3} + x\\right) \\left(- \\frac{2 \\sqrt{3} h}{9} + \\frac{\\sqrt{3} x}{3} + y\\right)}{3} + \\frac{\\sqrt{3} \\alpha \\left(\\frac{h}{3} + x\\right) \\left(\\frac{2 \\sqrt{3} h}{9} - \\frac{\\sqrt{3} x}{3} + y\\right)}{3} + \\alpha \\left(- \\frac{2 \\sqrt{3} h}{9} + \\frac{\\sqrt{3} x}{3} + y\\right) \\left(\\frac{2 \\sqrt{3} h}{9} - \\frac{\\sqrt{3} x}{3} + y\\right)\\right)$"
      ],
      "text/plain": [
       "<IPython.core.display.Math object>"
      ]
     },
     "metadata": {},
     "output_type": "display_data"
    }
   ],
   "source": [
    "display(Math(r'\\sigma_{{zx}} = {}'.format(sp.latex(sigma_zx))))\n",
    "display(Math(r'\\sigma_{{zy}} = {}'.format(sp.latex(sigma_zy))))"
   ]
  },
  {
   "cell_type": "markdown",
   "metadata": {},
   "source": [
    "On the edge $ y = \\frac{{-x}}{{\\sqrt{3}}} + \\frac{{2h}}{{3\\sqrt{3}}} $,"
   ]
  },
  {
   "cell_type": "markdown",
   "metadata": {},
   "source": [
    "$$ \\sigma_{{ij}} = \\begin{bmatrix} 0 & 0 & \\sigma_{{zx}}\\\\ 0 &0&\\sigma_{{zy}}\\\\\\sigma_{{zx}}&\\sigma_{{zy}}&0 \\end{bmatrix} $$\n",
    "$$ T^n = \\sigma_{{ij}}\\begin{bmatrix} \\frac{{1}}{{2}}\\\\\\frac{{\\sqrt{{3}}}}{{2}}\\\\0 \\end{bmatrix} $$\n",
    "$$ T^n = \\begin{bmatrix}0\\\\0\\\\\\frac{{\\sigma_{{zx}} + \\sqrt{{3}}\\sigma_{{zy}}}}{{2}} \\end{bmatrix} $$"
   ]
  },
  {
   "cell_type": "code",
   "execution_count": 65,
   "metadata": {},
   "outputs": [
    {
     "data": {
      "text/latex": [
       "$\\displaystyle 0$"
      ],
      "text/plain": [
       "0"
      ]
     },
     "execution_count": 65,
     "metadata": {},
     "output_type": "execute_result"
    }
   ],
   "source": [
    "sp.sqrt(3)*sigma_zy.subs(y,-x/sp.sqrt(3) + 2*h/(3*sp.sqrt(3))) + sigma_zx.subs(y,-x/sp.sqrt(3) + 2*h/(3*sp.sqrt(3)))"
   ]
  },
  {
   "cell_type": "markdown",
   "metadata": {},
   "source": [
    "As $$ T^n = \\begin{bmatrix}0\\\\0\\\\0 \\end{bmatrix} $$\n",
    "It implies,\n",
    "$$ N = 0 $$\n",
    "$$ S = 0 $$"
   ]
  },
  {
   "cell_type": "markdown",
   "metadata": {},
   "source": [
    "On the edge $ y = \\frac{{x}}{{\\sqrt{3}}} - \\frac{{2h}}{{3\\sqrt{3}}} $,"
   ]
  },
  {
   "cell_type": "markdown",
   "metadata": {},
   "source": [
    "$$ \\sigma_{{ij}} = \\begin{bmatrix} 0 & 0 & \\sigma_{{zx}}\\\\ 0 &0&\\sigma_{{zy}}\\\\\\sigma_{{zx}}&\\sigma_{{zy}}&0 \\end{bmatrix} $$\n",
    "$$ T^n = \\sigma_{{ij}}\\begin{bmatrix} \\frac{{1}}{{2}}\\\\\\frac{{-\\sqrt{{3}}}}{{2}}\\\\0 \\end{bmatrix} $$\n",
    "$$ T^n = \\begin{bmatrix}0\\\\0\\\\\\frac{{\\sigma_{{zx}} - \\sqrt{{3}}\\sigma_{{zy}}}}{{2}} \\end{bmatrix} $$"
   ]
  },
  {
   "cell_type": "code",
   "execution_count": 63,
   "metadata": {},
   "outputs": [
    {
     "data": {
      "text/latex": [
       "$\\displaystyle 0$"
      ],
      "text/plain": [
       "0"
      ]
     },
     "execution_count": 63,
     "metadata": {},
     "output_type": "execute_result"
    }
   ],
   "source": [
    "-sp.sqrt(3)*sigma_zy.subs(y,x/sp.sqrt(3) - 2*h/(3*sp.sqrt(3))) + sigma_zx.subs(y,x/sp.sqrt(3) - 2*h/(3*sp.sqrt(3)))"
   ]
  },
  {
   "cell_type": "markdown",
   "metadata": {},
   "source": [
    "As $$ T^n = \\begin{bmatrix}0\\\\0\\\\0 \\end{bmatrix} $$\n",
    "It implies,\n",
    "$$ N = 0 $$\n",
    "$$ S = 0 $$"
   ]
  },
  {
   "cell_type": "markdown",
   "metadata": {},
   "source": [
    "On the edge $ x = -h/3 $,"
   ]
  },
  {
   "cell_type": "markdown",
   "metadata": {},
   "source": [
    "$$ \\sigma_{{ij}} = \\begin{bmatrix} 0 & 0 & \\sigma_{{zx}}\\\\ 0 &0&\\sigma_{{zy}}\\\\\\sigma_{{zx}}&\\sigma_{{zy}}&0 \\end{bmatrix} $$\n",
    "$$ T^n = \\sigma_{{ij}}\\begin{bmatrix} -1\\\\0\\\\0 \\end{bmatrix} $$\n",
    "$$ T^n = \\begin{bmatrix}-\\sigma_{{zx}}\\\\0\\\\0 \\end{bmatrix} $$"
   ]
  },
  {
   "cell_type": "code",
   "execution_count": 64,
   "metadata": {},
   "outputs": [
    {
     "data": {
      "text/latex": [
       "$\\displaystyle 0$"
      ],
      "text/plain": [
       "0"
      ]
     },
     "execution_count": 64,
     "metadata": {},
     "output_type": "execute_result"
    }
   ],
   "source": [
    "-sigma_zx.subs(x,-h/3)"
   ]
  },
  {
   "cell_type": "markdown",
   "metadata": {},
   "source": [
    "As $$ T^n = \\begin{bmatrix}0\\\\0\\\\0 \\end{bmatrix} $$\n",
    "It implies,\n",
    "$$ N = 0 $$\n",
    "$$ S = 0 $$"
   ]
  }
 ],
 "metadata": {
  "kernelspec": {
   "display_name": "Python 3",
   "language": "python",
   "name": "python3"
  },
  "language_info": {
   "codemirror_mode": {
    "name": "ipython",
    "version": 3
   },
   "file_extension": ".py",
   "mimetype": "text/x-python",
   "name": "python",
   "nbconvert_exporter": "python",
   "pygments_lexer": "ipython3",
   "version": "3.9.0"
  }
 },
 "nbformat": 4,
 "nbformat_minor": 4
}
